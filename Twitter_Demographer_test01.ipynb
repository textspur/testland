{
  "nbformat": 4,
  "nbformat_minor": 0,
  "metadata": {
    "colab": {
      "provenance": [],
      "include_colab_link": true
    },
    "kernelspec": {
      "name": "python3",
      "display_name": "Python 3"
    },
    "language_info": {
      "name": "python"
    },
    "accelerator": "GPU",
    "gpuClass": "standard"
  },
  "cells": [
    {
      "cell_type": "markdown",
      "metadata": {
        "id": "view-in-github",
        "colab_type": "text"
      },
      "source": [
        "<a href=\"https://colab.research.google.com/github/textspur/testland/blob/main/Twitter_Demographer_test01.ipynb\" target=\"_parent\"><img src=\"https://colab.research.google.com/assets/colab-badge.svg\" alt=\"Open In Colab\"/></a>"
      ]
    },
    {
      "cell_type": "markdown",
      "source": [
        "# Twitter-Demographer\n",
        "\n",
        "This is going to take a couple of minutes. You probably want to use a GPU runtime if you need HF libraries.\n"
      ],
      "metadata": {
        "id": "gU501eyR99u5"
      }
    },
    {
      "cell_type": "code",
      "source": [
        "%%capture\n",
        "!pip install -U twitter-demographer\n",
        "!pip install -U tweepy"
      ],
      "metadata": {
        "id": "ZSBASkbJ9_A5"
      },
      "execution_count": null,
      "outputs": []
    },
    {
      "cell_type": "markdown",
      "source": [
        "### **NOTE**: Remember to **restart** the notebook"
      ],
      "metadata": {
        "id": "aThJW-hasi-O"
      }
    },
    {
      "cell_type": "markdown",
      "source": [
        "## Imports"
      ],
      "metadata": {
        "id": "F0XJVjnNbycr"
      }
    },
    {
      "cell_type": "code",
      "source": [
        "from twitter_demographer.twitter_demographer import Demographer\n",
        "from twitter_demographer.components import Rehydrate\n",
        "from twitter_demographer.classification.transformers import HuggingFaceClassifier\n",
        "from twitter_demographer.geolocation.nominatim import NominatimDecoder\n",
        "import pandas as pd"
      ],
      "metadata": {
        "id": "D6hftIv7wh6f"
      },
      "execution_count": null,
      "outputs": []
    },
    {
      "cell_type": "markdown",
      "source": [
        "## Tokens\n",
        "\n",
        "You need to get tokens for both twitter and geonames to run this pipeline"
      ],
      "metadata": {
        "id": "zkfLAcVmsa5W"
      }
    },
    {
      "cell_type": "code",
      "source": [
        "BEARER_TOKEN = \"\""
      ],
      "metadata": {
        "id": "01CBwoo8wOwM"
      },
      "execution_count": null,
      "outputs": []
    },
    {
      "cell_type": "code",
      "source": [
        "data = pd.DataFrame({\"tweet_ids\": [\"1545401081542443008\", \"253685732777009152\", \"1477976329710673921\", \"1467887350084689928\", \"1467887352647462912\", \"1290664307370360834\", \"1465284810696445952\"]})"
      ],
      "metadata": {
        "id": "owtByCVrw9SX"
      },
      "execution_count": null,
      "outputs": []
    },
    {
      "cell_type": "code",
      "source": [
        "data"
      ],
      "metadata": {
        "colab": {
          "base_uri": "https://localhost:8080/",
          "height": 206
        },
        "id": "LHSuBvcL8GAr",
        "outputId": "d8724e33-1a97-4997-e654-20c5a8001d39"
      },
      "execution_count": null,
      "outputs": [
        {
          "output_type": "execute_result",
          "data": {
            "text/html": [
              "\n",
              "  <div id=\"df-6fa97b2d-f58e-42b4-a80c-ce38878f74f8\">\n",
              "    <div class=\"colab-df-container\">\n",
              "      <div>\n",
              "<style scoped>\n",
              "    .dataframe tbody tr th:only-of-type {\n",
              "        vertical-align: middle;\n",
              "    }\n",
              "\n",
              "    .dataframe tbody tr th {\n",
              "        vertical-align: top;\n",
              "    }\n",
              "\n",
              "    .dataframe thead th {\n",
              "        text-align: right;\n",
              "    }\n",
              "</style>\n",
              "<table border=\"1\" class=\"dataframe\">\n",
              "  <thead>\n",
              "    <tr style=\"text-align: right;\">\n",
              "      <th></th>\n",
              "      <th>tweet_ids</th>\n",
              "    </tr>\n",
              "  </thead>\n",
              "  <tbody>\n",
              "    <tr>\n",
              "      <th>0</th>\n",
              "      <td>1477976329710673921</td>\n",
              "    </tr>\n",
              "    <tr>\n",
              "      <th>1</th>\n",
              "      <td>1467887350084689928</td>\n",
              "    </tr>\n",
              "    <tr>\n",
              "      <th>2</th>\n",
              "      <td>1467887352647462912</td>\n",
              "    </tr>\n",
              "    <tr>\n",
              "      <th>3</th>\n",
              "      <td>1290664307370360834</td>\n",
              "    </tr>\n",
              "    <tr>\n",
              "      <th>4</th>\n",
              "      <td>1465284810696445952</td>\n",
              "    </tr>\n",
              "  </tbody>\n",
              "</table>\n",
              "</div>\n",
              "      <button class=\"colab-df-convert\" onclick=\"convertToInteractive('df-6fa97b2d-f58e-42b4-a80c-ce38878f74f8')\"\n",
              "              title=\"Convert this dataframe to an interactive table.\"\n",
              "              style=\"display:none;\">\n",
              "        \n",
              "  <svg xmlns=\"http://www.w3.org/2000/svg\" height=\"24px\"viewBox=\"0 0 24 24\"\n",
              "       width=\"24px\">\n",
              "    <path d=\"M0 0h24v24H0V0z\" fill=\"none\"/>\n",
              "    <path d=\"M18.56 5.44l.94 2.06.94-2.06 2.06-.94-2.06-.94-.94-2.06-.94 2.06-2.06.94zm-11 1L8.5 8.5l.94-2.06 2.06-.94-2.06-.94L8.5 2.5l-.94 2.06-2.06.94zm10 10l.94 2.06.94-2.06 2.06-.94-2.06-.94-.94-2.06-.94 2.06-2.06.94z\"/><path d=\"M17.41 7.96l-1.37-1.37c-.4-.4-.92-.59-1.43-.59-.52 0-1.04.2-1.43.59L10.3 9.45l-7.72 7.72c-.78.78-.78 2.05 0 2.83L4 21.41c.39.39.9.59 1.41.59.51 0 1.02-.2 1.41-.59l7.78-7.78 2.81-2.81c.8-.78.8-2.07 0-2.86zM5.41 20L4 18.59l7.72-7.72 1.47 1.35L5.41 20z\"/>\n",
              "  </svg>\n",
              "      </button>\n",
              "      \n",
              "  <style>\n",
              "    .colab-df-container {\n",
              "      display:flex;\n",
              "      flex-wrap:wrap;\n",
              "      gap: 12px;\n",
              "    }\n",
              "\n",
              "    .colab-df-convert {\n",
              "      background-color: #E8F0FE;\n",
              "      border: none;\n",
              "      border-radius: 50%;\n",
              "      cursor: pointer;\n",
              "      display: none;\n",
              "      fill: #1967D2;\n",
              "      height: 32px;\n",
              "      padding: 0 0 0 0;\n",
              "      width: 32px;\n",
              "    }\n",
              "\n",
              "    .colab-df-convert:hover {\n",
              "      background-color: #E2EBFA;\n",
              "      box-shadow: 0px 1px 2px rgba(60, 64, 67, 0.3), 0px 1px 3px 1px rgba(60, 64, 67, 0.15);\n",
              "      fill: #174EA6;\n",
              "    }\n",
              "\n",
              "    [theme=dark] .colab-df-convert {\n",
              "      background-color: #3B4455;\n",
              "      fill: #D2E3FC;\n",
              "    }\n",
              "\n",
              "    [theme=dark] .colab-df-convert:hover {\n",
              "      background-color: #434B5C;\n",
              "      box-shadow: 0px 1px 3px 1px rgba(0, 0, 0, 0.15);\n",
              "      filter: drop-shadow(0px 1px 2px rgba(0, 0, 0, 0.3));\n",
              "      fill: #FFFFFF;\n",
              "    }\n",
              "  </style>\n",
              "\n",
              "      <script>\n",
              "        const buttonEl =\n",
              "          document.querySelector('#df-6fa97b2d-f58e-42b4-a80c-ce38878f74f8 button.colab-df-convert');\n",
              "        buttonEl.style.display =\n",
              "          google.colab.kernel.accessAllowed ? 'block' : 'none';\n",
              "\n",
              "        async function convertToInteractive(key) {\n",
              "          const element = document.querySelector('#df-6fa97b2d-f58e-42b4-a80c-ce38878f74f8');\n",
              "          const dataTable =\n",
              "            await google.colab.kernel.invokeFunction('convertToInteractive',\n",
              "                                                     [key], {});\n",
              "          if (!dataTable) return;\n",
              "\n",
              "          const docLinkHtml = 'Like what you see? Visit the ' +\n",
              "            '<a target=\"_blank\" href=https://colab.research.google.com/notebooks/data_table.ipynb>data table notebook</a>'\n",
              "            + ' to learn more about interactive tables.';\n",
              "          element.innerHTML = '';\n",
              "          dataTable['output_type'] = 'display_data';\n",
              "          await google.colab.output.renderOutput(dataTable, element);\n",
              "          const docLink = document.createElement('div');\n",
              "          docLink.innerHTML = docLinkHtml;\n",
              "          element.appendChild(docLink);\n",
              "        }\n",
              "      </script>\n",
              "    </div>\n",
              "  </div>\n",
              "  "
            ],
            "text/plain": [
              "             tweet_ids\n",
              "0  1477976329710673921\n",
              "1  1467887350084689928\n",
              "2  1467887352647462912\n",
              "3  1290664307370360834\n",
              "4  1465284810696445952"
            ]
          },
          "metadata": {},
          "execution_count": 35
        }
      ]
    },
    {
      "cell_type": "markdown",
      "source": [
        "## Using the Demographer"
      ],
      "metadata": {
        "id": "na4_PFBJ8G2Q"
      }
    },
    {
      "cell_type": "code",
      "source": [
        "demo = Demographer()"
      ],
      "metadata": {
        "id": "eA_cajNm8Fha"
      },
      "execution_count": null,
      "outputs": []
    },
    {
      "cell_type": "code",
      "source": [
        "component_one = Rehydrate(BEARER_TOKEN)\n",
        "component_two = NominatimDecoder()\n",
        "component_three = HuggingFaceClassifier(\"cardiffnlp/twitter-roberta-base-sentiment\")"
      ],
      "metadata": {
        "id": "4KknVThcwn-Y"
      },
      "execution_count": null,
      "outputs": []
    },
    {
      "cell_type": "code",
      "source": [
        "demo.add_component(component_one)\n",
        "demo.add_component(component_two)\n",
        "demo.add_component(component_three)"
      ],
      "metadata": {
        "id": "rfwU7zzSwYBq"
      },
      "execution_count": null,
      "outputs": []
    },
    {
      "cell_type": "code",
      "source": [
        "new_data = demo.infer(data)"
      ],
      "metadata": {
        "colab": {
          "base_uri": "https://localhost:8080/"
        },
        "id": "y_2Sy9kVxvZm",
        "outputId": "a08273e6-54bb-438f-9c6d-f8cd80cd8675"
      },
      "execution_count": null,
      "outputs": [
        {
          "output_type": "stream",
          "name": "stderr",
          "text": [
            "Running Demographer:   0%|          | 0/3 [00:00<?, ?it/s]\n",
            "  0%|          | 0/5 [00:00<?, ?it/s]\u001b[A\n",
            " 20%|██        | 1/5 [00:00<00:00,  7.47it/s]\u001b[A\n",
            "Running Hydrate:  20%|██        | 1/5 [00:00<00:00,  7.47it/s]\u001b[A\n",
            "Running Hydrate:  40%|████      | 2/5 [00:00<00:00,  7.47it/s]\u001b[A\n",
            "Running Hydrate:  60%|██████    | 3/5 [00:00<00:00,  9.90it/s]\u001b[A\n",
            "Running Hydrate:  60%|██████    | 3/5 [00:00<00:00,  9.90it/s]\u001b[A\n",
            "Running Hydrate:  80%|████████  | 4/5 [00:00<00:00,  9.90it/s]\u001b[A\n",
            "Running Hydrate: 100%|██████████| 5/5 [00:00<00:00, 11.15it/s]\u001b[A\n",
            "Running Hydrate: 100%|██████████| 5/5 [00:00<00:00, 10.48it/s]\n",
            "Running Demographer:  33%|███▎      | 1/3 [00:00<00:00,  2.02it/s]\n",
            "  0%|          | 0/5 [00:00<?, ?it/s]\u001b[A\n",
            "Geocoder:   0%|          | 0/5 [00:00<?, ?it/s]\u001b[A\n",
            "Geocoder:  40%|████      | 2/5 [00:00<00:00,  4.38it/s]\u001b[A\n",
            "Geocoder:  60%|██████    | 3/5 [00:00<00:00,  3.72it/s]\u001b[A\n",
            "Geocoder:  80%|████████  | 4/5 [00:01<00:00,  3.53it/s]\u001b[A\n",
            "Geocoder: 100%|██████████| 5/5 [00:01<00:00,  2.89it/s]\n",
            "Running Demographer: 100%|██████████| 3/3 [00:08<00:00,  2.95s/it]\n"
          ]
        }
      ]
    },
    {
      "cell_type": "code",
      "source": [
        "new_data"
      ],
      "metadata": {
        "colab": {
          "base_uri": "https://localhost:8080/",
          "height": 354
        },
        "id": "Q7MnX9vIx0sy",
        "outputId": "50da3a90-51a0-4e3b-8391-aa0a866b6657"
      },
      "execution_count": null,
      "outputs": [
        {
          "output_type": "execute_result",
          "data": {
            "text/html": [
              "\n",
              "  <div id=\"df-011a301b-3fb2-4308-9512-250b44cd02a4\">\n",
              "    <div class=\"colab-df-container\">\n",
              "      <div>\n",
              "<style scoped>\n",
              "    .dataframe tbody tr th:only-of-type {\n",
              "        vertical-align: middle;\n",
              "    }\n",
              "\n",
              "    .dataframe tbody tr th {\n",
              "        vertical-align: top;\n",
              "    }\n",
              "\n",
              "    .dataframe thead th {\n",
              "        text-align: right;\n",
              "    }\n",
              "</style>\n",
              "<table border=\"1\" class=\"dataframe\">\n",
              "  <thead>\n",
              "    <tr style=\"text-align: right;\">\n",
              "      <th></th>\n",
              "      <th>screen_name</th>\n",
              "      <th>location</th>\n",
              "      <th>created_at</th>\n",
              "      <th>text</th>\n",
              "      <th>geo_location_country</th>\n",
              "      <th>geo_location_address</th>\n",
              "      <th>cardiffnlp/twitter-roberta-base-sentiment</th>\n",
              "    </tr>\n",
              "  </thead>\n",
              "  <tbody>\n",
              "    <tr>\n",
              "      <th>1</th>\n",
              "      <td>c3662a3720829f818ff78d5dd1d22d469488244efdbd21...</td>\n",
              "      <td>Milan, Lombardy</td>\n",
              "      <td>2021-12-06 16:03:10+00:00</td>\n",
              "      <td>📢 📢 Evaluating #RecSys is difficult: accuracy ...</td>\n",
              "      <td>Italy</td>\n",
              "      <td>Milan</td>\n",
              "      <td>1</td>\n",
              "    </tr>\n",
              "    <tr>\n",
              "      <th>4</th>\n",
              "      <td>d0bf91186c88cb5dd886259ee503c309735cce25ac4b38...</td>\n",
              "      <td>Milan, MI</td>\n",
              "      <td>2021-11-29 11:41:37+00:00</td>\n",
              "      <td>Excited to talk at the NLP4AI workshop today (...</td>\n",
              "      <td>Italy</td>\n",
              "      <td>Milan</td>\n",
              "      <td>2</td>\n",
              "    </tr>\n",
              "    <tr>\n",
              "      <th>2</th>\n",
              "      <td>c3662a3720829f818ff78d5dd1d22d469488244efdbd21...</td>\n",
              "      <td>Milan, Lombardy</td>\n",
              "      <td>2021-12-06 16:03:11+00:00</td>\n",
              "      <td>#RecList provides behavioral, \"black-box\" test...</td>\n",
              "      <td>Italy</td>\n",
              "      <td>Milan</td>\n",
              "      <td>1</td>\n",
              "    </tr>\n",
              "    <tr>\n",
              "      <th>0</th>\n",
              "      <td>9b61fff64038f969a863a61e28358a7ba13b4517dd7638...</td>\n",
              "      <td>Zurich, Switzerland</td>\n",
              "      <td>2022-01-03 12:13:11+00:00</td>\n",
              "      <td>Just received this super cool swag kit! Many t...</td>\n",
              "      <td>Switzerland</td>\n",
              "      <td>Zurich</td>\n",
              "      <td>2</td>\n",
              "    </tr>\n",
              "    <tr>\n",
              "      <th>3</th>\n",
              "      <td>589b556f0c7c08b1623a5dabb9b5f16c4210019e07853e...</td>\n",
              "      <td>Lugano - Viganello</td>\n",
              "      <td>2020-08-04 15:02:04+00:00</td>\n",
              "      <td>Thrilled to announce that our paper \"Tough Tab...</td>\n",
              "      <td>Switzerland</td>\n",
              "      <td>Viganello</td>\n",
              "      <td>2</td>\n",
              "    </tr>\n",
              "  </tbody>\n",
              "</table>\n",
              "</div>\n",
              "      <button class=\"colab-df-convert\" onclick=\"convertToInteractive('df-011a301b-3fb2-4308-9512-250b44cd02a4')\"\n",
              "              title=\"Convert this dataframe to an interactive table.\"\n",
              "              style=\"display:none;\">\n",
              "        \n",
              "  <svg xmlns=\"http://www.w3.org/2000/svg\" height=\"24px\"viewBox=\"0 0 24 24\"\n",
              "       width=\"24px\">\n",
              "    <path d=\"M0 0h24v24H0V0z\" fill=\"none\"/>\n",
              "    <path d=\"M18.56 5.44l.94 2.06.94-2.06 2.06-.94-2.06-.94-.94-2.06-.94 2.06-2.06.94zm-11 1L8.5 8.5l.94-2.06 2.06-.94-2.06-.94L8.5 2.5l-.94 2.06-2.06.94zm10 10l.94 2.06.94-2.06 2.06-.94-2.06-.94-.94-2.06-.94 2.06-2.06.94z\"/><path d=\"M17.41 7.96l-1.37-1.37c-.4-.4-.92-.59-1.43-.59-.52 0-1.04.2-1.43.59L10.3 9.45l-7.72 7.72c-.78.78-.78 2.05 0 2.83L4 21.41c.39.39.9.59 1.41.59.51 0 1.02-.2 1.41-.59l7.78-7.78 2.81-2.81c.8-.78.8-2.07 0-2.86zM5.41 20L4 18.59l7.72-7.72 1.47 1.35L5.41 20z\"/>\n",
              "  </svg>\n",
              "      </button>\n",
              "      \n",
              "  <style>\n",
              "    .colab-df-container {\n",
              "      display:flex;\n",
              "      flex-wrap:wrap;\n",
              "      gap: 12px;\n",
              "    }\n",
              "\n",
              "    .colab-df-convert {\n",
              "      background-color: #E8F0FE;\n",
              "      border: none;\n",
              "      border-radius: 50%;\n",
              "      cursor: pointer;\n",
              "      display: none;\n",
              "      fill: #1967D2;\n",
              "      height: 32px;\n",
              "      padding: 0 0 0 0;\n",
              "      width: 32px;\n",
              "    }\n",
              "\n",
              "    .colab-df-convert:hover {\n",
              "      background-color: #E2EBFA;\n",
              "      box-shadow: 0px 1px 2px rgba(60, 64, 67, 0.3), 0px 1px 3px 1px rgba(60, 64, 67, 0.15);\n",
              "      fill: #174EA6;\n",
              "    }\n",
              "\n",
              "    [theme=dark] .colab-df-convert {\n",
              "      background-color: #3B4455;\n",
              "      fill: #D2E3FC;\n",
              "    }\n",
              "\n",
              "    [theme=dark] .colab-df-convert:hover {\n",
              "      background-color: #434B5C;\n",
              "      box-shadow: 0px 1px 3px 1px rgba(0, 0, 0, 0.15);\n",
              "      filter: drop-shadow(0px 1px 2px rgba(0, 0, 0, 0.3));\n",
              "      fill: #FFFFFF;\n",
              "    }\n",
              "  </style>\n",
              "\n",
              "      <script>\n",
              "        const buttonEl =\n",
              "          document.querySelector('#df-011a301b-3fb2-4308-9512-250b44cd02a4 button.colab-df-convert');\n",
              "        buttonEl.style.display =\n",
              "          google.colab.kernel.accessAllowed ? 'block' : 'none';\n",
              "\n",
              "        async function convertToInteractive(key) {\n",
              "          const element = document.querySelector('#df-011a301b-3fb2-4308-9512-250b44cd02a4');\n",
              "          const dataTable =\n",
              "            await google.colab.kernel.invokeFunction('convertToInteractive',\n",
              "                                                     [key], {});\n",
              "          if (!dataTable) return;\n",
              "\n",
              "          const docLinkHtml = 'Like what you see? Visit the ' +\n",
              "            '<a target=\"_blank\" href=https://colab.research.google.com/notebooks/data_table.ipynb>data table notebook</a>'\n",
              "            + ' to learn more about interactive tables.';\n",
              "          element.innerHTML = '';\n",
              "          dataTable['output_type'] = 'display_data';\n",
              "          await google.colab.output.renderOutput(dataTable, element);\n",
              "          const docLink = document.createElement('div');\n",
              "          docLink.innerHTML = docLinkHtml;\n",
              "          element.appendChild(docLink);\n",
              "        }\n",
              "      </script>\n",
              "    </div>\n",
              "  </div>\n",
              "  "
            ],
            "text/plain": [
              "                                         screen_name  ... cardiffnlp/twitter-roberta-base-sentiment\n",
              "1  c3662a3720829f818ff78d5dd1d22d469488244efdbd21...  ...                                         1\n",
              "4  d0bf91186c88cb5dd886259ee503c309735cce25ac4b38...  ...                                         2\n",
              "2  c3662a3720829f818ff78d5dd1d22d469488244efdbd21...  ...                                         1\n",
              "0  9b61fff64038f969a863a61e28358a7ba13b4517dd7638...  ...                                         2\n",
              "3  589b556f0c7c08b1623a5dabb9b5f16c4210019e07853e...  ...                                         2\n",
              "\n",
              "[5 rows x 7 columns]"
            ]
          },
          "metadata": {},
          "execution_count": 31
        }
      ]
    }
  ]
}